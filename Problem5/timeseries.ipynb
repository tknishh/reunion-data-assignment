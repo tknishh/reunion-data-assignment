{
 "cells": [
  {
   "cell_type": "code",
   "execution_count": 12,
   "metadata": {},
   "outputs": [],
   "source": [
    "import pandas as pd\n",
    "import numpy as np\n",
    "from sqlalchemy import create_engine\n",
    "\n",
    "# Read the Excel file into a DataFrame\n",
    "df = pd.read_excel('Time Series.xlsx')\n",
    "\n",
    "# Sort the DataFrame by the \"Start\" column\n",
    "df.sort_values('Start', inplace=True)\n",
    "\n",
    "# Perform transformations\n",
    "output_data = []\n",
    "current_bot = None\n",
    "current_start = None\n",
    "current_end = None\n",
    "current_activities = []\n",
    "\n",
    "for index, row in df.iterrows():\n",
    "    bot = row['Name']\n",
    "    start = row['Start']\n",
    "    end = row['End']\n",
    "    activity = row['Activity']\n",
    "    \n",
    "    if bot == current_bot:\n",
    "        if start <= current_end:\n",
    "            current_end = max(current_end, end)\n",
    "            current_activities.append(activity)\n",
    "        else:\n",
    "            output_data.append([current_bot, current_start, current_end, current_activities])\n",
    "            current_start = start\n",
    "            current_end = end\n",
    "            current_activities = [activity]\n",
    "    else:\n",
    "        if current_bot is not None:\n",
    "            output_data.append([current_bot, current_start, current_end, current_activities])\n",
    "        current_bot = bot\n",
    "        current_start = start\n",
    "        current_end = end\n",
    "        current_activities = [activity]\n",
    "\n",
    "# Create a new DataFrame with transformed data\n",
    "output_df = pd.DataFrame(output_data, columns=['Bot Name', 'Start', 'End', 'Activities'])\n",
    "\n",
    "# Export the transformed data to a new Excel file\n",
    "output_df.to_excel('BotActivity.xlsx', index=False)\n"
   ]
  },
  {
   "cell_type": "code",
   "execution_count": null,
   "metadata": {},
   "outputs": [],
   "source": []
  }
 ],
 "metadata": {
  "kernelspec": {
   "display_name": "Python 3",
   "language": "python",
   "name": "python3"
  },
  "language_info": {
   "codemirror_mode": {
    "name": "ipython",
    "version": 3
   },
   "file_extension": ".py",
   "mimetype": "text/x-python",
   "name": "python",
   "nbconvert_exporter": "python",
   "pygments_lexer": "ipython3",
   "version": "3.9.13"
  },
  "orig_nbformat": 4
 },
 "nbformat": 4,
 "nbformat_minor": 2
}
