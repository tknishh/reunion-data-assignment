{
 "cells": [
  {
   "cell_type": "code",
   "execution_count": 1,
   "metadata": {},
   "outputs": [],
   "source": [
    "import sqlite3\n",
    "\n",
    "# Connect to the database\n",
    "conn = sqlite3.connect('/JUET/Projects/reunion-data-assignment/Problem1/ecommerce.db')"
   ]
  },
  {
   "cell_type": "code",
   "execution_count": 2,
   "metadata": {},
   "outputs": [
    {
     "name": "stdout",
     "output_type": "stream",
     "text": [
      "[(5, 'Nathan Townsend', 747.74), (4, 'Evelyn Rivera', 714.765), (6, 'Angela Brennan', 660.82), (2, 'Jennifer Wilson', 638.7679999999999), (9, 'Madison Poole', 510.3033333333333)]\n"
     ]
    }
   ],
   "source": [
    "# 1. Retrieve the top 5 customers who have made the highest average order amounts in the last 6 months. The average order \n",
    "#    amount should be calculated for each customer, and the result should be sorted in descending order.\n",
    "\n",
    "cursor = conn.cursor()\n",
    "cursor.execute('''\n",
    "    SELECT Customers.customer_id, Customers.name, AVG(Orders.total_amount) AS average_order_amount\n",
    "    FROM Customers\n",
    "    JOIN Orders ON Customers.customer_id = Orders.customer_id\n",
    "    WHERE Orders.order_date >= DATE('now', '-6 months')\n",
    "    GROUP BY Customers.customer_id, Customers.name\n",
    "    ORDER BY average_order_amount DESC\n",
    "    LIMIT 5;\n",
    "    ''')\n",
    "\n",
    "query = cursor.fetchall()\n",
    "print(query)"
   ]
  },
  {
   "cell_type": "code",
   "execution_count": 3,
   "metadata": {},
   "outputs": [
    {
     "name": "stdout",
     "output_type": "stream",
     "text": [
      "[(4, 'Evelyn Rivera'), (10, 'Alexandra Avery'), (2, 'Jennifer Wilson'), (9, 'Madison Poole'), (10, 'Alexandra Avery'), (10, 'Alexandra Avery'), (2, 'Jennifer Wilson'), (6, 'Angela Brennan'), (5, 'Nathan Townsend'), (2, 'Jennifer Wilson'), (3, 'Thomas Petersen'), (7, 'Ashley Hughes'), (1, 'Sarah Smith'), (4, 'Evelyn Rivera'), (6, 'Angela Brennan'), (10, 'Alexandra Avery'), (5, 'Nathan Townsend'), (9, 'Madison Poole'), (3, 'Thomas Petersen'), (6, 'Angela Brennan'), (8, 'Ricardo Kaufman'), (2, 'Jennifer Wilson'), (9, 'Madison Poole'), (2, 'Jennifer Wilson')]\n"
     ]
    }
   ],
   "source": [
    "# 2. Retrieve the list of customer whose order value is lower this year as compared to previous year\n",
    "\n",
    "cursor = conn.cursor()\n",
    "cursor.execute('''\n",
    "    SELECT Customers.customer_id, Customers.name\n",
    "    FROM Customers\n",
    "    JOIN Orders ON Customers.customer_id = Orders.customer_id\n",
    "    WHERE strftime('%Y', Orders.order_date) = strftime('%Y', 'now')\n",
    "    AND Orders.total_amount < (\n",
    "        SELECT SUM(total_amount)\n",
    "        FROM Orders\n",
    "        WHERE strftime('%Y', order_date) = strftime('%Y', 'now', '-1 year')\n",
    "        AND Customers.customer_id = Orders.customer_id\n",
    "    );\n",
    "    ''')\n",
    "\n",
    "query = cursor.fetchall()\n",
    "print(query)"
   ]
  },
  {
   "cell_type": "code",
   "execution_count": 4,
   "metadata": {},
   "outputs": [
    {
     "ename": "OperationalError",
     "evalue": "table CumulativePurchase already exists",
     "output_type": "error",
     "traceback": [
      "\u001b[1;31m---------------------------------------------------------------------------\u001b[0m",
      "\u001b[1;31mOperationalError\u001b[0m                          Traceback (most recent call last)",
      "Cell \u001b[1;32mIn[4], line 4\u001b[0m\n\u001b[0;32m      1\u001b[0m \u001b[39m# 3. Create a table showing cumulative purchase by a particular customer\u001b[39;00m\n\u001b[0;32m      3\u001b[0m cursor \u001b[39m=\u001b[39m conn\u001b[39m.\u001b[39mcursor()\n\u001b[1;32m----> 4\u001b[0m cursor\u001b[39m.\u001b[39;49mexecute(\u001b[39m'''\u001b[39;49m\n\u001b[0;32m      5\u001b[0m \u001b[39m    CREATE TABLE CumulativePurchase AS\u001b[39;49m\n\u001b[0;32m      6\u001b[0m \u001b[39m    SELECT Orders.order_id, Orders.customer_id, Orders.order_date, SUM(Orders.total_amount) OVER (PARTITION BY Orders.customer_id ORDER BY Orders.order_date) AS cumulative_purchase\u001b[39;49m\n\u001b[0;32m      7\u001b[0m \u001b[39m    FROM Orders;\u001b[39;49m\n\u001b[0;32m      8\u001b[0m \u001b[39m    \u001b[39;49m\u001b[39m'''\u001b[39;49m)\n\u001b[0;32m     10\u001b[0m cursor\u001b[39m.\u001b[39mexecute(\u001b[39m\"\u001b[39m\u001b[39mSELECT * FROM CumulativePurchase;\u001b[39m\u001b[39m\"\u001b[39m)\n\u001b[0;32m     11\u001b[0m query \u001b[39m=\u001b[39m cursor\u001b[39m.\u001b[39mfetchall()\n",
      "\u001b[1;31mOperationalError\u001b[0m: table CumulativePurchase already exists"
     ]
    }
   ],
   "source": [
    "# 3. Create a table showing cumulative purchase by a particular customer\n",
    "\n",
    "cursor = conn.cursor()\n",
    "cursor.execute('''\n",
    "    CREATE TABLE CumulativePurchase AS\n",
    "    SELECT Orders.order_id, Orders.customer_id, Orders.order_date, SUM(Orders.total_amount) OVER (PARTITION BY Orders.customer_id ORDER BY Orders.order_date) AS cumulative_purchase\n",
    "    FROM Orders;\n",
    "    ''')\n",
    "\n",
    "cursor.execute(\"SELECT * FROM CumulativePurchase;\")\n",
    "query = cursor.fetchall()\n",
    "print(query)"
   ]
  },
  {
   "cell_type": "code",
   "execution_count": 19,
   "metadata": {},
   "outputs": [
    {
     "name": "stdout",
     "output_type": "stream",
     "text": [
      "[('iPhone', 362), ('MacBook', 353), ('iPod', 224), ('Apple TV', 203), ('Beats', 151)]\n"
     ]
    }
   ],
   "source": [
    "# 4. Retrieve the list of top 5 selling products. Further bifurcate the sales by product variants\n",
    "\n",
    "cursor = conn.cursor()\n",
    "cursor.execute('''\n",
    "    SELECT Products.name, SUM(OrderItems.quantity) AS total_quantity\n",
    "    FROM Products\n",
    "    JOIN OrderItems ON Products.product_id = OrderItems.product_id\n",
    "    GROUP BY Products.name\n",
    "    ORDER BY total_quantity DESC\n",
    "    LIMIT 5;\n",
    "    ''')\n",
    "\n",
    "query = cursor.fetchall()\n",
    "print(query)"
   ]
  },
  {
   "cell_type": "code",
   "execution_count": 20,
   "metadata": {},
   "outputs": [
    {
     "ename": "OperationalError",
     "evalue": "no such column: Variants.parent_product_id",
     "output_type": "error",
     "traceback": [
      "\u001b[1;31m---------------------------------------------------------------------------\u001b[0m",
      "\u001b[1;31mOperationalError\u001b[0m                          Traceback (most recent call last)",
      "Cell \u001b[1;32mIn[20], line 2\u001b[0m\n\u001b[0;32m      1\u001b[0m cursor \u001b[39m=\u001b[39m conn\u001b[39m.\u001b[39mcursor()\n\u001b[1;32m----> 2\u001b[0m cursor\u001b[39m.\u001b[39;49mexecute(\u001b[39m'''\u001b[39;49m\n\u001b[0;32m      3\u001b[0m \u001b[39m    SELECT Products.name, Variants.name, SUM(OrderItems.quantity) AS total_quantity\u001b[39;49m\n\u001b[0;32m      4\u001b[0m \u001b[39m    FROM Products\u001b[39;49m\n\u001b[0;32m      5\u001b[0m \u001b[39m    JOIN OrderItems ON Products.product_id = OrderItems.product_id\u001b[39;49m\n\u001b[0;32m      6\u001b[0m \u001b[39m    JOIN Products AS Variants ON Products.product_id = Variants.parent_product_id\u001b[39;49m\n\u001b[0;32m      7\u001b[0m \u001b[39m    GROUP BY Products.name, Variants.name\u001b[39;49m\n\u001b[0;32m      8\u001b[0m \u001b[39m    ORDER BY total_quantity DESC;\u001b[39;49m\n\u001b[0;32m      9\u001b[0m \u001b[39m    \u001b[39;49m\u001b[39m'''\u001b[39;49m)\n\u001b[0;32m     11\u001b[0m query \u001b[39m=\u001b[39m cursor\u001b[39m.\u001b[39mfetchall()\n\u001b[0;32m     12\u001b[0m \u001b[39mprint\u001b[39m(query)\n",
      "\u001b[1;31mOperationalError\u001b[0m: no such column: Variants.parent_product_id"
     ]
    }
   ],
   "source": [
    "cursor = conn.cursor()\n",
    "cursor.execute('''\n",
    "    SELECT Products.name, Variants.name, SUM(OrderItems.quantity) AS total_quantity\n",
    "    FROM Products\n",
    "    JOIN OrderItems ON Products.product_id = OrderItems.product_id\n",
    "    JOIN Products AS Variants ON Products.product_id = Variants.parent_product_id\n",
    "    GROUP BY Products.name, Variants.name\n",
    "    ORDER BY total_quantity DESC;\n",
    "    ''')\n",
    "\n",
    "query = cursor.fetchall()\n",
    "print(query)"
   ]
  },
  {
   "cell_type": "code",
   "execution_count": 14,
   "metadata": {},
   "outputs": [],
   "source": [
    "conn.close()"
   ]
  },
  {
   "cell_type": "code",
   "execution_count": null,
   "metadata": {},
   "outputs": [],
   "source": []
  }
 ],
 "metadata": {
  "kernelspec": {
   "display_name": "Python 3",
   "language": "python",
   "name": "python3"
  },
  "language_info": {
   "codemirror_mode": {
    "name": "ipython",
    "version": 3
   },
   "file_extension": ".py",
   "mimetype": "text/x-python",
   "name": "python",
   "nbconvert_exporter": "python",
   "pygments_lexer": "ipython3",
   "version": "3.9.13"
  },
  "orig_nbformat": 4
 },
 "nbformat": 4,
 "nbformat_minor": 2
}
