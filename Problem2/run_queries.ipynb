{
 "cells": [
  {
   "cell_type": "code",
   "execution_count": 18,
   "metadata": {},
   "outputs": [],
   "source": [
    "import sqlite3\n",
    "\n",
    "# Connect to the database\n",
    "conn = sqlite3.connect('/JUET/Projects/reunion-data-assignment/Problem1/ecommerce.db')"
   ]
  },
  {
   "cell_type": "code",
   "execution_count": 19,
   "metadata": {},
   "outputs": [
    {
     "name": "stdout",
     "output_type": "stream",
     "text": [
      "[(4, 'Marcus Molina', 942.97), (10, 'Melissa Gaines', 711.53), (9, 'Chloe Rivas', 607.58), (5, 'Mandy Clark', 572.9300000000001), (7, 'Matthew Mccall', 568.2066666666666)]\n"
     ]
    }
   ],
   "source": [
    "# 1. Retrieve the top 5 customers who have made the highest average order amounts in the last 6 months. The average order \n",
    "#    amount should be calculated for each customer, and the result should be sorted in descending order.\n",
    "\n",
    "cursor = conn.cursor()\n",
    "cursor.execute('''\n",
    "    SELECT Customers.customer_id, Customers.name, AVG(Orders.total_amount) AS average_order_amount\n",
    "    FROM Customers\n",
    "    JOIN Orders ON Customers.customer_id = Orders.customer_id\n",
    "    WHERE Orders.order_date >= DATE('now', '-6 months')\n",
    "    GROUP BY Customers.customer_id, Customers.name\n",
    "    ORDER BY average_order_amount DESC\n",
    "    LIMIT 5;\n",
    "    ''')\n",
    "\n",
    "query = cursor.fetchall()\n",
    "print(query)"
   ]
  },
  {
   "cell_type": "code",
   "execution_count": 20,
   "metadata": {},
   "outputs": [
    {
     "name": "stdout",
     "output_type": "stream",
     "text": [
      "[(6, 'Matthew Hernandez'), (2, 'Miranda Walls'), (3, 'Brent Bailey'), (3, 'Brent Bailey'), (7, 'Matthew Mccall'), (5, 'Mandy Clark'), (2, 'Miranda Walls'), (6, 'Matthew Hernandez'), (7, 'Matthew Mccall'), (5, 'Mandy Clark'), (8, 'Katelyn Stewart'), (3, 'Brent Bailey'), (3, 'Brent Bailey'), (9, 'Chloe Rivas'), (2, 'Miranda Walls'), (4, 'Marcus Molina'), (2, 'Miranda Walls'), (9, 'Chloe Rivas'), (2, 'Miranda Walls'), (8, 'Katelyn Stewart'), (6, 'Matthew Hernandez'), (5, 'Mandy Clark'), (3, 'Brent Bailey'), (2, 'Miranda Walls'), (7, 'Matthew Mccall'), (3, 'Brent Bailey'), (6, 'Matthew Hernandez'), (5, 'Mandy Clark'), (10, 'Melissa Gaines'), (9, 'Chloe Rivas'), (1, 'Ian Hall'), (2, 'Miranda Walls')]\n"
     ]
    }
   ],
   "source": [
    "# 2. Retrieve the list of customer whose order value is lower this year as compared to previous year\n",
    "\n",
    "cursor = conn.cursor()\n",
    "cursor.execute('''\n",
    "    SELECT Customers.customer_id, Customers.name\n",
    "    FROM Customers\n",
    "    JOIN Orders ON Customers.customer_id = Orders.customer_id\n",
    "    WHERE strftime('%Y', Orders.order_date) = strftime('%Y', 'now')\n",
    "    AND Orders.total_amount < (\n",
    "        SELECT SUM(total_amount)\n",
    "        FROM Orders\n",
    "        WHERE strftime('%Y', order_date) = strftime('%Y', 'now', '-1 year')\n",
    "        AND Customers.customer_id = Orders.customer_id\n",
    "    );\n",
    "    ''')\n",
    "\n",
    "query = cursor.fetchall()\n",
    "print(query)"
   ]
  },
  {
   "cell_type": "code",
   "execution_count": 21,
   "metadata": {},
   "outputs": [
    {
     "name": "stdout",
     "output_type": "stream",
     "text": [
      "[(53, 1, '2021-12-19', 198.42), (52, 1, '2022-02-21', 892.93), (24, 1, '2022-05-10', 1070.21), (13, 1, '2022-07-01', 1323.67), (47, 1, '2022-08-24', 1665.3600000000001), (21, 1, '2022-09-22', 2633.9), (92, 1, '2023-03-08', 2695.58), (67, 2, '2022-01-04', 471.35), (97, 2, '2022-01-06', 1003.7900000000001), (22, 2, '2022-03-21', 1930.39), (38, 2, '2022-05-21', 2724.65), (9, 2, '2022-05-29', 4020.2200000000003), (85, 2, '2022-05-29', 4020.2200000000003), (30, 2, '2022-06-06', 4983.93), (65, 2, '2022-09-08', 5283.47), (54, 2, '2023-01-12', 5350.96), (48, 2, '2023-01-29', 5716.71), (35, 2, '2023-02-11', 6662.04), (99, 2, '2023-04-24', 7022.0599999999995), (14, 2, '2023-05-03', 7183.49), (66, 2, '2023-07-01', 8162.0599999999995), (4, 2, '2023-07-15', 8322.25), (1, 3, '2021-07-27', 641.68), (33, 3, '2021-08-03', 1427.03), (87, 3, '2021-09-17', 1588.05), (74, 3, '2021-10-02', 2132.2799999999997), (62, 3, '2022-03-23', 2425.8399999999997), (40, 3, '2022-03-30', 3204.04), (94, 3, '2022-04-28', 3747.8), (27, 3, '2022-06-25', 3846.8300000000004), (89, 3, '2022-08-09', 4127.1), (59, 3, '2022-08-24', 4664.7300000000005), (36, 3, '2022-09-30', 5631.06), (77, 3, '2022-12-01', 6586.370000000001), (2, 3, '2022-12-05', 7228.2300000000005), (64, 3, '2023-01-25', 8218.4), (32, 3, '2023-02-18', 8667.56), (8, 3, '2023-03-22', 9248.13), (31, 3, '2023-04-08', 9522.519999999999), (5, 3, '2023-05-16', 9741.269999999999), (72, 3, '2023-06-30', 10316.14), (56, 4, '2021-08-17', 462.87), (98, 4, '2021-11-15', 807.53), (45, 4, '2022-05-23', 1199.6599999999999), (82, 4, '2022-06-05', 1698.02), (88, 4, '2022-07-22', 2590.84), (6, 4, '2022-09-26', 2634.76), (46, 4, '2022-10-26', 2835.3100000000004), (43, 4, '2022-11-13', 3192.1000000000004), (80, 4, '2022-12-21', 3343.0200000000004), (39, 4, '2023-01-30', 4285.990000000001), (16, 5, '2021-10-30', 97.96), (68, 5, '2022-02-10', 625.71), (26, 5, '2022-06-29', 1214.47), (60, 5, '2022-09-30', 1611.4), (78, 5, '2023-01-11', 2229.5), (63, 5, '2023-02-02', 2395.74), (12, 5, '2023-04-28', 3275.93), (18, 5, '2023-07-05', 3948.29), (28, 6, '2022-02-11', 771.14), (57, 6, '2022-05-09', 1386.71), (37, 6, '2022-05-19', 1470.21), (71, 6, '2022-06-29', 2383.1), (25, 6, '2022-10-26', 3133.6099999999997), (41, 6, '2022-11-18', 3992.62), (73, 6, '2023-01-05', 4097.54), (15, 6, '2023-06-04', 4114.7), (3, 6, '2023-06-22', 4888.65), (61, 6, '2023-06-24', 5657.53), (23, 7, '2021-12-13', 934.01), (7, 7, '2022-04-17', 1836.4099999999999), (19, 7, '2022-07-20', 2252.99), (10, 7, '2023-04-25', 2621.2799999999997), (17, 7, '2023-05-29', 3034.2299999999996), (69, 7, '2023-07-11', 3957.6099999999997), (84, 8, '2021-09-07', 221.07), (44, 8, '2022-04-15', 677.9), (55, 8, '2022-04-25', 1216.53), (51, 8, '2022-05-20', 1564.6799999999998), (91, 8, '2022-07-14', 1687.3999999999999), (58, 8, '2023-04-05', 2086.04), (20, 8, '2023-05-26', 2710.77), (100, 9, '2021-07-20', 333.48), (79, 9, '2021-08-21', 641.63), (95, 9, '2021-09-13', 1297.0), (86, 9, '2022-01-09', 1508.91), (76, 9, '2022-10-22', 1522.3100000000002), (70, 9, '2022-12-15', 2312.0), (11, 9, '2022-12-18', 3265.1), (34, 9, '2023-01-11', 3696.5699999999997), (83, 9, '2023-04-07', 4510.91), (50, 9, '2023-06-07', 4911.73), (75, 10, '2021-12-04', 70.82), (90, 10, '2022-01-09', 766.1500000000001), (93, 10, '2022-07-08', 1391.2800000000002), (96, 10, '2022-07-16', 2134.75), (29, 10, '2022-07-20', 3105.23), (42, 10, '2022-09-30', 3654.54), (49, 10, '2022-11-04', 4333.34), (81, 10, '2023-06-12', 5044.87)]\n"
     ]
    }
   ],
   "source": [
    "# 3. Create a table showing cumulative purchase by a particular customer\n",
    "\n",
    "cursor = conn.cursor()\n",
    "cursor.execute('''\n",
    "    CREATE TABLE CumulativePurchase AS\n",
    "    SELECT Orders.order_id, Orders.customer_id, Orders.order_date, SUM(Orders.total_amount) OVER (PARTITION BY Orders.customer_id ORDER BY Orders.order_date) AS cumulative_purchase\n",
    "    FROM Orders;\n",
    "    ''')\n",
    "\n",
    "cursor.execute(\"SELECT * FROM CumulativePurchase;\")\n",
    "query = cursor.fetchall()\n",
    "print(query)"
   ]
  },
  {
   "cell_type": "code",
   "execution_count": 22,
   "metadata": {},
   "outputs": [
    {
     "name": "stdout",
     "output_type": "stream",
     "text": [
      "[('MacBook', 399), ('iPhone', 339), ('AirPods', 273), ('Apple Watch', 221), ('iPad', 209)]\n"
     ]
    }
   ],
   "source": [
    "# 4. Retrieve the list of top 5 selling products. Further bifurcate the sales by product variants\n",
    "\n",
    "cursor = conn.cursor()\n",
    "cursor.execute('''\n",
    "    SELECT Products.name, SUM(OrderItems.quantity) AS total_quantity\n",
    "    FROM Products\n",
    "    JOIN OrderItems ON Products.product_id = OrderItems.product_id\n",
    "    GROUP BY Products.name\n",
    "    ORDER BY total_quantity DESC\n",
    "    LIMIT 5;\n",
    "    ''')\n",
    "\n",
    "query = cursor.fetchall()\n",
    "print(query)"
   ]
  },
  {
   "cell_type": "code",
   "execution_count": 24,
   "metadata": {},
   "outputs": [],
   "source": [
    "conn.close()"
   ]
  },
  {
   "cell_type": "code",
   "execution_count": null,
   "metadata": {},
   "outputs": [],
   "source": []
  }
 ],
 "metadata": {
  "kernelspec": {
   "display_name": "Python 3",
   "language": "python",
   "name": "python3"
  },
  "language_info": {
   "codemirror_mode": {
    "name": "ipython",
    "version": 3
   },
   "file_extension": ".py",
   "mimetype": "text/x-python",
   "name": "python",
   "nbconvert_exporter": "python",
   "pygments_lexer": "ipython3",
   "version": "3.9.13"
  },
  "orig_nbformat": 4
 },
 "nbformat": 4,
 "nbformat_minor": 2
}
